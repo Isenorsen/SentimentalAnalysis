{
 "cells": [
  {
   "cell_type": "code",
   "execution_count": 21,
   "metadata": {},
   "outputs": [],
   "source": [
    "import pandas as pd\n",
    "\n",
    "train_data = pd.read_csv('train.csv', encoding='latin1')\n",
    "test_data = pd.read_csv('test.csv', encoding='latin1')\n",
    "\n",
    "train_tweet = train_data.SentimentText\n",
    "train_labels = train_data.Sentiment\n",
    "\n",
    "test_tweet = test_data.SentimentText\n"
   ]
  },
  {
   "cell_type": "markdown",
   "metadata": {},
   "source": [
    "<h3>Токенизируем слова</h3>"
   ]
  },
  {
   "cell_type": "code",
   "execution_count": null,
   "metadata": {},
   "outputs": [],
   "source": [
    "from keras.preprocessing.text import Tokenizer\n",
    "from keras.preprocessing.sequence import pad_sequences\n",
    "import numpy as np\n",
    "\n",
    "tokenizer = Tokenizer()\n",
    "tokenizer.fit_on_texts(train_tweet)\n",
    "word_index = tokenizer.word_index\n",
    "sequences = tokenizer.texts_to_sequences(train_tweet)\n",
    "data = pad_sequences(sequences)\n",
    "\n",
    "test_sequences = tokenizer.texts_to_sequences(test_tweet)\n",
    "test_data = pad_sequences(test_sequences)\n",
    "labels = np.asarray(train_labels)"
   ]
  },
  {
   "cell_type": "markdown",
   "metadata": {},
   "source": [
    "<h3>Делим данные на тренировочные, валидационные и тестовые</h3>"
   ]
  },
  {
   "cell_type": "code",
   "execution_count": 40,
   "metadata": {},
   "outputs": [],
   "source": [
    "x_train = data[:70000]\n",
    "y_train = labels[:70000]\n",
    "\n",
    "x_val = data[70000:80000]\n",
    "y_val = labels[70000:80000]\n",
    "embedding_dim=100\n",
    "\n",
    "x_test = data[80000:]\n",
    "y_test = labels[80000:]"
   ]
  },
  {
   "cell_type": "code",
   "execution_count": 41,
   "metadata": {},
   "outputs": [
    {
     "name": "stdout",
     "output_type": "stream",
     "text": [
      "_________________________________________________________________\n",
      "Layer (type)                 Output Shape              Param #   \n",
      "=================================================================\n",
      "embedding_11 (Embedding)     (None, 151, 64)           6823168   \n",
      "_________________________________________________________________\n",
      "flatten_9 (Flatten)          (None, 9664)              0         \n",
      "_________________________________________________________________\n",
      "dense_7 (Dense)              (None, 32)                309280    \n",
      "_________________________________________________________________\n",
      "dense_8 (Dense)              (None, 1)                 33        \n",
      "=================================================================\n",
      "Total params: 7,132,481\n",
      "Trainable params: 7,132,481\n",
      "Non-trainable params: 0\n",
      "_________________________________________________________________\n"
     ]
    }
   ],
   "source": [
    "from keras.models import Sequential\n",
    "from keras.layers import Embedding, Flatten, Dense, LSTM\n",
    "\n",
    "ndim=2\n",
    "\n",
    "a=ndim\n",
    "\n",
    "model = Sequential()\n",
    "model.add(Embedding(106612, 64, input_length=151))\n",
    "model.add(Flatten())\n",
    "model.add(Dense(32, activation='relu'))\n",
    "model.add(Dense(1, activation='sigmoid'))\n",
    "model.summary()"
   ]
  },
  {
   "cell_type": "code",
   "execution_count": 42,
   "metadata": {},
   "outputs": [],
   "source": [
    "model.compile(optimizer='rmsprop',\n",
    "              loss='binary_crossentropy',\n",
    "              metrics=['acc'])"
   ]
  },
  {
   "cell_type": "code",
   "execution_count": 43,
   "metadata": {},
   "outputs": [
    {
     "name": "stdout",
     "output_type": "stream",
     "text": [
      "Train on 70000 samples, validate on 10000 samples\n",
      "Epoch 1/10\n",
      "70000/70000 [==============================] - 41s 590us/step - loss: 0.5371 - acc: 0.7307 - val_loss: 0.5095 - val_acc: 0.7566\n",
      "Epoch 2/10\n",
      "70000/70000 [==============================] - 43s 614us/step - loss: 0.5171 - acc: 0.7569 - val_loss: 0.5205 - val_acc: 0.7517\n",
      "Epoch 3/10\n",
      "70000/70000 [==============================] - 42s 604us/step - loss: 0.5167 - acc: 0.7609 - val_loss: 0.5239 - val_acc: 0.7383\n",
      "Epoch 4/10\n",
      "70000/70000 [==============================] - 42s 602us/step - loss: 0.5219 - acc: 0.7625 - val_loss: 0.5351 - val_acc: 0.7609\n",
      "Epoch 5/10\n",
      "70000/70000 [==============================] - 42s 593us/step - loss: 0.5300 - acc: 0.7639 - val_loss: 0.5645 - val_acc: 0.7356\n",
      "Epoch 6/10\n",
      "70000/70000 [==============================] - 41s 582us/step - loss: 0.5342 - acc: 0.7655 - val_loss: 0.5659 - val_acc: 0.7469\n",
      "Epoch 7/10\n",
      "70000/70000 [==============================] - 41s 582us/step - loss: 0.5407 - acc: 0.7681 - val_loss: 0.5680 - val_acc: 0.7294\n",
      "Epoch 8/10\n",
      "70000/70000 [==============================] - 38s 545us/step - loss: 0.5470 - acc: 0.7686 - val_loss: 0.6073 - val_acc: 0.7497\n",
      "Epoch 9/10\n",
      "70000/70000 [==============================] - 42s 598us/step - loss: 0.5481 - acc: 0.7726 - val_loss: 0.5336 - val_acc: 0.7546\n",
      "Epoch 10/10\n",
      "70000/70000 [==============================] - 42s 597us/step - loss: 0.5545 - acc: 0.7730 - val_loss: 0.5417 - val_acc: 0.7490\n"
     ]
    }
   ],
   "source": [
    "history = model.fit(x_train, y_train,\n",
    "                    epochs=10,\n",
    "                    batch_size=10,\n",
    "                    validation_data=(x_val, y_val))"
   ]
  },
  {
   "cell_type": "code",
   "execution_count": 26,
   "metadata": {},
   "outputs": [
    {
     "data": {
      "text/plain": [
       "dict_keys(['val_loss', 'val_acc', 'loss', 'acc'])"
      ]
     },
     "execution_count": 26,
     "metadata": {},
     "output_type": "execute_result"
    }
   ],
   "source": [
    "history.history.keys()"
   ]
  },
  {
   "cell_type": "code",
   "execution_count": 46,
   "metadata": {},
   "outputs": [
    {
     "data": {
      "text/plain": [
       "<matplotlib.legend.Legend at 0x7f9d3c1b9f98>"
      ]
     },
     "execution_count": 46,
     "metadata": {},
     "output_type": "execute_result"
    },
    {
     "data": {
      "image/png": "[encoded data removed]",
      "text/plain": [
       "<Figure size 432x288 with 1 Axes>"
      ]
     },
     "metadata": {
      "needs_background": "light"
     },
     "output_type": "display_data"
    },
    {
     "data": {
      "image/png": "[encoded data removed]",
      "text/plain": [
       "<Figure size 432x288 with 1 Axes>"
      ]
     },
     "metadata": {
      "needs_background": "light"
     },
     "output_type": "display_data"
    }
   ],
   "source": [
    "import matplotlib.pyplot as plt\n",
    "\n",
    "val_loss = history.history['val_loss']\n",
    "val_acc = history.history['val_acc']\n",
    "loss = history.history['loss']\n",
    "acc = history.history['acc']\n",
    "epochs = range(1, len(history.history['loss']) + 1)\n",
    "\n",
    "plt.plot(epochs, acc, 'bo', label='accuracy')\n",
    "plt.plot(epochs, val_acc, 'r', label='val acc')\n",
    "plt.title('Training and validation loss')\n",
    "plt.legend()\n",
    "\n",
    "plt.figure()\n",
    "\n",
    "plt.plot(epochs, loss, 'b', label='Train Loss')\n",
    "plt.plot(epochs, val_loss, 'r', label='Validation Loss')\n",
    "# plt.plot(epochs, acc, 'bo', label='Train accuracy')\n",
    "plt.title('Loss')\n",
    "plt.legend()"
   ]
  },
  {
   "cell_type": "markdown",
   "metadata": {},
   "source": [
    "<h3>Сохраняем веса</h3>"
   ]
  },
  {
   "cell_type": "code",
   "execution_count": 50,
   "metadata": {},
   "outputs": [],
   "source": [
    "model.save_weights('pre_trained_model.h5')"
   ]
  },
  {
   "cell_type": "markdown",
   "metadata": {},
   "source": [
    "<h3>Делаем предсказание на тестовых данных и ассоциируем полученные данные с переменной prediction</h3>"
   ]
  },
  {
   "cell_type": "code",
   "execution_count": 47,
   "metadata": {},
   "outputs": [
    {
     "data": {
      "text/plain": [
       "299989"
      ]
     },
     "execution_count": 47,
     "metadata": {},
     "output_type": "execute_result"
    }
   ],
   "source": [
    "prediction = model.predict(test_data)"
   ]
  },
  {
   "cell_type": "markdown",
   "metadata": {},
   "source": [
    "<h3>Записываем результаты предсказания и тестовые твиты в .csv файл</h3>"
   ]
  },
  {
   "cell_type": "code",
   "execution_count": 52,
   "metadata": {},
   "outputs": [],
   "source": [
    "a = pd.DataFrame(prediction)\n",
    "b = pd.DataFrame(test_tweet)\n",
    "a = a.assign(tweet = b.SentimentText)\n",
    "a.to_csv('prediction.csv')"
   ]
  },
  {
   "cell_type": "code",
   "execution_count": null,
   "metadata": {},
   "outputs": [],
   "source": [
    "<h3>"
   ]
  },
  {
   "cell_type": "code",
   "execution_count": 54,
   "metadata": {},
   "outputs": [
    {
     "name": "stdout",
     "output_type": "stream",
     "text": [
      "19989/19989 [==============================] - 1s 47us/step\n"
     ]
    }
   ],
   "source": [
    "model.evaluate(x_val, y_test)"
   ]
  },
  {
   "cell_type": "code",
   "execution_count": 61,
   "metadata": {},
   "outputs": [
    {
     "data": {
      "text/plain": [
       "[0.550644808060602, 0.7430586822931426]"
      ]
     },
     "execution_count": 61,
     "metadata": {},
     "output_type": "execute_result"
    }
   ],
   "source": []
  },
  {
   "cell_type": "code",
   "execution_count": null,
   "metadata": {},
   "outputs": [],
   "source": []
  }
 ],
 "metadata": {
  "kernelspec": {
   "display_name": "Python 3",
   "language": "python",
   "name": "python3"
  },
  "language_info": {
   "codemirror_mode": {
    "name": "ipython",
    "version": 3
   },
   "file_extension": ".py",
   "mimetype": "text/x-python",
   "name": "python",
   "nbconvert_exporter": "python",
   "pygments_lexer": "ipython3",
   "version": "3.6.6"
  }
 },
 "nbformat": 4,
 "nbformat_minor": 2
}
